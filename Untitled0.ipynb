{
  "nbformat": 4,
  "nbformat_minor": 0,
  "metadata": {
    "colab": {
      "name": "Untitled0.ipynb",
      "provenance": [],
      "collapsed_sections": [],
      "authorship_tag": "ABX9TyNqjuXwE4PaKMlVbUb8QuUu",
      "include_colab_link": true
    },
    "kernelspec": {
      "name": "python3",
      "display_name": "Python 3"
    },
    "language_info": {
      "name": "python"
    }
  },
  "cells": [
    {
      "cell_type": "markdown",
      "metadata": {
        "id": "view-in-github",
        "colab_type": "text"
      },
      "source": [
        "<a href=\"https://colab.research.google.com/github/bittles/googlecolab1/blob/master/Untitled0.ipynb\" target=\"_parent\"><img src=\"https://colab.research.google.com/assets/colab-badge.svg\" alt=\"Open In Colab\"/></a>"
      ]
    },
    {
      "cell_type": "code",
      "metadata": {
        "id": "lAniO1Kf63E3"
      },
      "source": [
        "players = [\n",
        "           {\n",
        "            \"name\": \"Michael Thomas\",\n",
        "            \"catches\": 149,\n",
        "            \"targets\": 185\n",
        "           },\n",
        "           {\n",
        "            \"name\": \"Julio Jones\",\n",
        "            \"catches\": 99,\n",
        "            \"targets\": 157\n",
        "           },\n",
        "           {\n",
        "            \"name\": \"Davante Adams\",\n",
        "            \"catches\": 83,\n",
        "            \"targets\": 127\n",
        "           }\n",
        "]"
      ],
      "execution_count": null,
      "outputs": []
    },
    {
      "cell_type": "code",
      "metadata": {
        "colab": {
          "base_uri": "https://localhost:8080/"
        },
        "id": "snf65s7c7z0-",
        "outputId": "4610ff4d-6e23-4090-c48a-22e4ebe0300b"
      },
      "source": [
        "for player in players:\n",
        "  name = player['name']\n",
        "  catches = player['catches']\n",
        "  targets = player['targets']\n",
        "  catch_rate = catches/targets\n",
        "  print(name + ' had a catche rate of ' + str(catch_rate))"
      ],
      "execution_count": null,
      "outputs": [
        {
          "output_type": "stream",
          "name": "stdout",
          "text": [
            "Michael Thomas had a catche rate of 0.8054054054054054\n",
            "Julio Jones had a catche rate of 0.6305732484076433\n",
            "Davante Adams had a catche rate of 0.6535433070866141\n"
          ]
        }
      ]
    }
  ]
}